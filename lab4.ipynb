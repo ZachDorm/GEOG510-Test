{
  "cells": [
    {
      "cell_type": "markdown",
      "metadata": {
        "id": "view-in-github",
        "colab_type": "text"
      },
      "source": [
        "<a href=\"https://colab.research.google.com/github/ZachDorm/GEOG510-Test/blob/main/lab4.ipynb\" target=\"_parent\"><img src=\"https://colab.research.google.com/assets/colab-badge.svg\" alt=\"Open In Colab\"/></a>"
      ]
    },
    {
      "cell_type": "markdown",
      "id": "beb550f5",
      "metadata": {
        "id": "beb550f5"
      },
      "source": [
        "## Lab 4 - Zach Dorminey's Submission\n",
        "\n"
      ]
    },
    {
      "cell_type": "code",
      "execution_count": 1,
      "id": "bfc1ddc5",
      "metadata": {
        "vscode": {
          "languageId": "python"
        },
        "id": "bfc1ddc5",
        "colab": {
          "base_uri": "https://localhost:8080/"
        },
        "outputId": "2bde631a-c42c-4bce-b000-d9284e342741"
      },
      "outputs": [
        {
          "output_type": "stream",
          "name": "stdout",
          "text": [
            "Submitted time: 2023-03-07 22:59:31.680203\n"
          ]
        }
      ],
      "source": [
        "from datetime import datetime\n",
        "\n",
        "now = datetime.now()\n",
        "print(f\"Submitted time: {now}\")"
      ]
    },
    {
      "cell_type": "markdown",
      "id": "7e96934a",
      "metadata": {
        "id": "7e96934a"
      },
      "source": [
        "## Question 1\n",
        "\n",
        "**Personal Message:** Use a variable to represent a person’s name, and print a message to that person. Your message should be simple, such as, “Hello Eric, would you like to learn some Python today?”"
      ]
    },
    {
      "cell_type": "code",
      "execution_count": 2,
      "id": "063a8cb4",
      "metadata": {
        "vscode": {
          "languageId": "python"
        },
        "colab": {
          "base_uri": "https://localhost:8080/"
        },
        "id": "063a8cb4",
        "outputId": "f06b2a3d-b1e0-4eb4-bfc4-e54565e408d1"
      },
      "outputs": [
        {
          "output_type": "stream",
          "name": "stdout",
          "text": [
            "Hi Joe let's complete this lab.\n"
          ]
        }
      ],
      "source": [
        "name = \"Joe\"\n",
        "\n",
        "print(\"Hi \" + name + \" let's do complete this lab.\")"
      ]
    },
    {
      "cell_type": "markdown",
      "id": "83c4c9e9",
      "metadata": {
        "id": "83c4c9e9"
      },
      "source": [
        "## Question 2\n",
        "\n",
        "**Name Cases:** Use a variable to represent a person’s name, and then print that person’s name in lowercase, uppercase, and title case."
      ]
    },
    {
      "cell_type": "code",
      "execution_count": 3,
      "id": "35cfbbec",
      "metadata": {
        "vscode": {
          "languageId": "python"
        },
        "colab": {
          "base_uri": "https://localhost:8080/"
        },
        "id": "35cfbbec",
        "outputId": "cf99c8f6-c042-434d-fcef-0ae02922635e"
      },
      "outputs": [
        {
          "output_type": "stream",
          "name": "stdout",
          "text": [
            "joe\n",
            "JOE\n",
            "Joe\n"
          ]
        }
      ],
      "source": [
        "print(name.lower())\n",
        "print(name.upper())\n",
        "print(name.title())"
      ]
    },
    {
      "cell_type": "markdown",
      "id": "8c8e92e4",
      "metadata": {
        "id": "8c8e92e4"
      },
      "source": [
        "## Question 3\n",
        "\n",
        "**Famous Quote:** Find a quote from a famous person you admire. Print the quote and the name of its author. Your output should look something like the following, including the quotation marks:\n",
        "\n",
        "```\n",
        "Albert Einstein once said, “A person who never made a mistake never tried anything new.”\n",
        "```"
      ]
    },
    {
      "cell_type": "code",
      "execution_count": 4,
      "id": "3bed6cb5",
      "metadata": {
        "vscode": {
          "languageId": "python"
        },
        "colab": {
          "base_uri": "https://localhost:8080/"
        },
        "id": "3bed6cb5",
        "outputId": "0158c057-b105-40fa-8413-de84e3ed093c"
      },
      "outputs": [
        {
          "output_type": "stream",
          "name": "stdout",
          "text": [
            "Denzel Washington, in his Penn Commencement Address, said, \"I’ve found that nothing in life is worthwhile unless you take risks.\"\n",
            "\"Nothing.\"\n"
          ]
        }
      ],
      "source": [
        "print(\"Denzel Washington, in his Penn Commencement Address, said, \\\"I’ve found that nothing in life is worthwhile unless you take risks.\\\"\\n\"+\n",
        "\n",
        "\"\\\"Nothing.\\\"\")"
      ]
    },
    {
      "cell_type": "markdown",
      "id": "4b46d366",
      "metadata": {
        "id": "4b46d366"
      },
      "source": [
        "## Question 4\n",
        "\n",
        "**Stripping Names:** Use a variable to represent a person’s name, and include some whitespace characters at the beginning and end of the name. Make sure you use each character combination, \"\\t\" and \"\\n\", at least once.\n",
        "Print the name once, so the whitespace around the name is displayed. Then print the name using each of the three stripping functions, lstrip(), rstrip(), and strip()."
      ]
    },
    {
      "cell_type": "code",
      "execution_count": 5,
      "id": "bb5dbb0f",
      "metadata": {
        "vscode": {
          "languageId": "python"
        },
        "colab": {
          "base_uri": "https://localhost:8080/"
        },
        "id": "bb5dbb0f",
        "outputId": "1e970e78-6fb7-42fc-b596-1aa1b1324e4c"
      },
      "outputs": [
        {
          "output_type": "stream",
          "name": "stdout",
          "text": [
            "\t  Denzel  \n",
            "\n",
            "Denzel  \n",
            "\n",
            "\t  Denzel\n",
            "Denzel\n"
          ]
        }
      ],
      "source": [
        "name4 = \"\\t  Denzel  \\n\"\n",
        "\n",
        "print(name4)\n",
        "\n",
        "#remove blank space to the left of the string\n",
        "print(name4.lstrip())\n",
        "\n",
        "#remove blank space to the right of the string\n",
        "print(name4.rstrip())\n",
        "\n",
        "#remove leading or trailing space from the string\n",
        "print(name4.strip())"
      ]
    },
    {
      "cell_type": "markdown",
      "id": "32cce0d9",
      "metadata": {
        "id": "32cce0d9"
      },
      "source": [
        "## Question 5\n",
        "\n",
        "**Names:** Store the names of a few of your friends in a list called names. Print\n",
        "each person’s name by accessing each element in the list, one at a time."
      ]
    },
    {
      "cell_type": "code",
      "execution_count": 6,
      "id": "13da6459",
      "metadata": {
        "vscode": {
          "languageId": "python"
        },
        "colab": {
          "base_uri": "https://localhost:8080/"
        },
        "id": "13da6459",
        "outputId": "dbb64cd4-fd3e-4986-bf6a-43c8529d0d08"
      },
      "outputs": [
        {
          "output_type": "stream",
          "name": "stdout",
          "text": [
            "Jim\n",
            "Joe\n",
            "Jill\n",
            "Julie\n",
            "Jan\n",
            "John\n",
            "Jane\n"
          ]
        }
      ],
      "source": [
        "names = [\"Jim\", \"Joe\", \"Jill\", \"Julie\", \"Jan\", \"John\", \"Jane\"]\n",
        "\n",
        "print(names[0])\n",
        "print(names[1])\n",
        "print(names[2])\n",
        "print(names[3])\n",
        "print(names[4])\n",
        "print(names[5])\n",
        "print(names[6])"
      ]
    },
    {
      "cell_type": "markdown",
      "id": "aaaa5c8f",
      "metadata": {
        "id": "aaaa5c8f"
      },
      "source": [
        "## Question 6\n",
        "\n",
        "**Your Own List:** Think of your favorite mode of transportation, such as a motorcycle or a car, and make a list that stores several examples. Use your list to print a series of statements about these items, such as “I would like to own a Honda motorcycle.”"
      ]
    },
    {
      "cell_type": "code",
      "execution_count": 7,
      "id": "eba0829e",
      "metadata": {
        "vscode": {
          "languageId": "python"
        },
        "colab": {
          "base_uri": "https://localhost:8080/"
        },
        "id": "eba0829e",
        "outputId": "aa886967-d21f-4392-98e9-a83ba4d9a3c9"
      },
      "outputs": [
        {
          "output_type": "stream",
          "name": "stdout",
          "text": [
            "While I considered the  Trail Hawk  trim, I decided against it.\n",
            "I figured a rugged trim likely experienced heavy use from it's prior owner, as it was a used car. Instead, I decided to go with the  Limited trim.\n"
          ]
        }
      ],
      "source": [
        "#I choose different trim models of Jeeps\n",
        "jeeps = [\"Limited\", \"Trail Hawk\", \"Latitude\"]\n",
        "\n",
        "print(\"While I considered the \", jeeps[1], \" trim, I decided against it.\")\n",
        "print(\"I figured a rugged trim likely experienced heavy use from it's prior owner, as it was a used car. Instead, I decided to go with the \", jeeps[0], \"trim.\")"
      ]
    },
    {
      "cell_type": "markdown",
      "id": "e4b4452f",
      "metadata": {
        "id": "e4b4452f"
      },
      "source": [
        "## Question 7\n",
        "\n",
        "**Pizzas:** Think of at least three kinds of your favorite pizza. Store these pizza names in a list, and then use a for loop to print the name of each pizza.\n",
        "\n",
        "Modify your for loop to print a sentence using the name of the pizza instead of printing just the name of the pizza. For each pizza you should have one line of output containing a simple statement like _I like pepperoni pizza._"
      ]
    },
    {
      "cell_type": "code",
      "execution_count": 8,
      "id": "37cdb68e",
      "metadata": {
        "vscode": {
          "languageId": "python"
        },
        "colab": {
          "base_uri": "https://localhost:8080/"
        },
        "id": "37cdb68e",
        "outputId": "ec2ee3f7-df30-4494-ec40-591aa1f1fdb2"
      },
      "outputs": [
        {
          "output_type": "stream",
          "name": "stdout",
          "text": [
            "cheese\n",
            "pepperoni\n",
            "mushroom and sausage\n",
            "meatlovers\n",
            "vegetarian\n",
            "supreme\n",
            "\n",
            "\n",
            "I don't know which of these is my favorite pizza, so I am going to say that  cheese  is my favorite.\n",
            "I don't know which of these is my favorite pizza, so I am going to say that  pepperoni  is my favorite.\n",
            "I don't know which of these is my favorite pizza, so I am going to say that  mushroom and sausage  is my favorite.\n",
            "I don't know which of these is my favorite pizza, so I am going to say that  meatlovers  is my favorite.\n",
            "I don't know which of these is my favorite pizza, so I am going to say that  vegetarian  is my favorite.\n",
            "I don't know which of these is my favorite pizza, so I am going to say that  supreme  is my favorite.\n"
          ]
        }
      ],
      "source": [
        "pizzas = [\"cheese\", \"pepperoni\", \"mushroom and sausage\", \"meatlovers\", \"vegetarian\", \"supreme\"]\n",
        "\n",
        "for i in pizzas:\n",
        "  print(i)\n",
        "\n",
        "print(\"\\n\")\n",
        "\n",
        "for i in pizzas:\n",
        "  print(\"I don't know which of these is my favorite pizza, so I am going to say that \", i, \" is my favorite.\")"
      ]
    },
    {
      "cell_type": "markdown",
      "id": "b3b70e8e",
      "metadata": {
        "id": "b3b70e8e"
      },
      "source": [
        "Add a line at the end of your program, outside the for loop, that states how much you like pizza. The output should consist of three or more lines about the kinds of pizza you like and then an additional sentence, such as _I really love pizza!_"
      ]
    },
    {
      "cell_type": "code",
      "execution_count": 9,
      "id": "11b4528c",
      "metadata": {
        "vscode": {
          "languageId": "python"
        },
        "colab": {
          "base_uri": "https://localhost:8080/"
        },
        "id": "11b4528c",
        "outputId": "3fbf8a7e-1ef3-4ba2-98ee-7f91ba3f4aad"
      },
      "outputs": [
        {
          "output_type": "stream",
          "name": "stdout",
          "text": [
            "I don't know which of these is my favorite pizza, so I am going to say that  cheese  is my favorite.\n",
            "I don't know which of these is my favorite pizza, so I am going to say that  pepperoni  is my favorite.\n",
            "I don't know which of these is my favorite pizza, so I am going to say that  mushroom and sausage  is my favorite.\n",
            "I don't know which of these is my favorite pizza, so I am going to say that  meatlovers  is my favorite.\n",
            "I don't know which of these is my favorite pizza, so I am going to say that  vegetarian  is my favorite.\n",
            "I don't know which of these is my favorite pizza, so I am going to say that  supreme  is my favorite.\n",
            "Pizza can be great, but I must say, I prefer a great hamburger over just about any pizza.\n"
          ]
        }
      ],
      "source": [
        "for i in pizzas:\n",
        "  print(\"I don't know which of these is my favorite pizza, so I am going to say that \", i, \" is my favorite.\")\n",
        "\n",
        "print(\"Pizza can be great, but I must say, I prefer a great hamburger over just about any pizza.\")"
      ]
    },
    {
      "cell_type": "markdown",
      "id": "6e42f992",
      "metadata": {
        "id": "6e42f992"
      },
      "source": [
        "## Question 8\n",
        "\n",
        "**Animals:** Think of at least three different animals that have a common characteristic. Store the names of these animals in a list, and then use a for loop to print out the name of each animal.\n",
        "\n",
        "Modify your program to print a statement about each animal, such as _A dog would make a great pet._"
      ]
    },
    {
      "cell_type": "code",
      "execution_count": 10,
      "id": "7489fb55",
      "metadata": {
        "vscode": {
          "languageId": "python"
        },
        "colab": {
          "base_uri": "https://localhost:8080/"
        },
        "id": "7489fb55",
        "outputId": "37a2b091-8a97-48af-d976-cf83c4d9d3da"
      },
      "outputs": [
        {
          "output_type": "stream",
          "name": "stdout",
          "text": [
            "I have  often gone fishing for  trout\n",
            "I have  never gone fishing for  bass\n",
            "I have  sometimes gone fishing for  catfish\n",
            "I have  never on purpose gone fishing for  shark\n"
          ]
        }
      ],
      "source": [
        "fishin = [\"trout\", \"bass\", \"catfish\", \"shark\"]\n",
        "freq = [\"often\", \"never\", \"sometimes\", \"never on purpose\"]\n",
        "\n",
        "for i in range(0,len(fishin)):\n",
        "  print(\"I have \", freq[i], \"gone fishing for \", fishin[i])"
      ]
    },
    {
      "cell_type": "markdown",
      "id": "b4484392",
      "metadata": {
        "id": "b4484392"
      },
      "source": [
        "Add a line at the end of your program stating what these animals have in common. You could print a sentence such as _Any of these animals would make a great pet!_"
      ]
    },
    {
      "cell_type": "code",
      "execution_count": 11,
      "id": "eb9f8e19",
      "metadata": {
        "vscode": {
          "languageId": "python"
        },
        "id": "eb9f8e19",
        "colab": {
          "base_uri": "https://localhost:8080/"
        },
        "outputId": "c285ec9c-2f3d-4d45-af00-887f6510be44"
      },
      "outputs": [
        {
          "output_type": "stream",
          "name": "stdout",
          "text": [
            "I think I would enjoy catching any of these fish!\n"
          ]
        }
      ],
      "source": [
        "print(\"I think I would enjoy catching any of these fish!\")"
      ]
    },
    {
      "cell_type": "markdown",
      "id": "ba99ccb5",
      "metadata": {
        "id": "ba99ccb5"
      },
      "source": [
        "## Question 9\n",
        "\n",
        "**Summing a Hundred:** Make a list of the numbers from one to one hundred, and then use `min()` and `max()` to make sure your list actually starts at one and ends at one hundred. Also, use the sum() function to see how quickly Python can add a hundred numbers."
      ]
    },
    {
      "cell_type": "code",
      "execution_count": 12,
      "id": "6c6a27a9",
      "metadata": {
        "vscode": {
          "languageId": "python"
        },
        "id": "6c6a27a9",
        "colab": {
          "base_uri": "https://localhost:8080/"
        },
        "outputId": "3d49b502-cdc6-42de-96b2-47cce76715ed"
      },
      "outputs": [
        {
          "output_type": "stream",
          "name": "stdout",
          "text": [
            "5050\n",
            "1\n",
            "100\n"
          ]
        }
      ],
      "source": [
        "one2hund = range(1,101)\n",
        "\n",
        "print(sum(one2hund))\n",
        "\n",
        "print(min(one2hund))\n",
        "print(max(one2hund))"
      ]
    },
    {
      "cell_type": "markdown",
      "id": "d165cd3c",
      "metadata": {
        "id": "d165cd3c"
      },
      "source": [
        "## Question 10\n",
        "\n",
        "**Odd Numbers:** Use the third argument of the `range()` function to make a list of the odd numbers from 1 to 20. Use a `for` loop to print each number."
      ]
    },
    {
      "cell_type": "code",
      "execution_count": 13,
      "id": "d276920a",
      "metadata": {
        "vscode": {
          "languageId": "python"
        },
        "id": "d276920a",
        "colab": {
          "base_uri": "https://localhost:8080/"
        },
        "outputId": "dfc0dbbc-610e-43b6-cc16-c45c6beae695"
      },
      "outputs": [
        {
          "output_type": "stream",
          "name": "stdout",
          "text": [
            "1\n",
            "3\n",
            "5\n",
            "7\n",
            "9\n",
            "11\n",
            "13\n",
            "15\n",
            "17\n",
            "19\n"
          ]
        }
      ],
      "source": [
        "odds = range(1,20,2)\n",
        "\n",
        "for i in odds:\n",
        "  print(i)"
      ]
    },
    {
      "cell_type": "markdown",
      "id": "9e49d9eb",
      "metadata": {
        "id": "9e49d9eb"
      },
      "source": [
        "## Question 11\n",
        "\n",
        "**Threes:** Make a list of the multiples of 3 from 3 to 30. Use a `for` loop to print the numbers in your list."
      ]
    },
    {
      "cell_type": "code",
      "execution_count": 14,
      "id": "4ff24fc6",
      "metadata": {
        "vscode": {
          "languageId": "python"
        },
        "id": "4ff24fc6",
        "colab": {
          "base_uri": "https://localhost:8080/"
        },
        "outputId": "8d54230d-3ee9-42c6-bb73-b9cbf0a03c0e"
      },
      "outputs": [
        {
          "output_type": "stream",
          "name": "stdout",
          "text": [
            "3\n",
            "6\n",
            "9\n",
            "12\n",
            "15\n",
            "18\n",
            "21\n",
            "24\n",
            "27\n",
            "30\n"
          ]
        }
      ],
      "source": [
        "threes = range(3,31,3)\n",
        "\n",
        "for i in threes:\n",
        "  print(i)"
      ]
    },
    {
      "cell_type": "markdown",
      "id": "dbcce457",
      "metadata": {
        "id": "dbcce457"
      },
      "source": [
        "## Question 12\n",
        "\n",
        "**Cube Comprehension:** Use a list comprehension to generate a list of the first 10 cubes."
      ]
    },
    {
      "cell_type": "code",
      "execution_count": 15,
      "id": "df0901f8",
      "metadata": {
        "vscode": {
          "languageId": "python"
        },
        "id": "df0901f8",
        "colab": {
          "base_uri": "https://localhost:8080/"
        },
        "outputId": "832e3a42-53b9-4ec7-ea74-453abbcdca97"
      },
      "outputs": [
        {
          "output_type": "stream",
          "name": "stdout",
          "text": [
            "[1, 8, 27, 64, 125, 216, 343, 512, 729]\n"
          ]
        }
      ],
      "source": [
        "cubes = [x*x*x for x in range(1,10)]\n",
        "print(cubes)"
      ]
    },
    {
      "cell_type": "markdown",
      "id": "c6946e7b",
      "metadata": {
        "id": "c6946e7b"
      },
      "source": [
        "## Question 13\n",
        "\n",
        "**Slices:** Using one of the programs you wrote in this lab, add several lines to the end of the program that do the following:\n",
        "\n",
        "Print the message _The first three items in the list are:_. Then use a slice to print the first three items from that program’s list."
      ]
    },
    {
      "cell_type": "code",
      "execution_count": 16,
      "id": "0e03e488",
      "metadata": {
        "vscode": {
          "languageId": "python"
        },
        "id": "0e03e488",
        "colab": {
          "base_uri": "https://localhost:8080/"
        },
        "outputId": "4020e86e-eea7-4ee9-a27d-3e160905eeaf"
      },
      "outputs": [
        {
          "output_type": "stream",
          "name": "stdout",
          "text": [
            "The first three items in the list names are:  ['Jim', 'Joe', 'Jill']\n"
          ]
        }
      ],
      "source": [
        "print(\"The first three items in the list names are: \", names[0:3])"
      ]
    },
    {
      "cell_type": "markdown",
      "id": "6f88722c",
      "metadata": {
        "id": "6f88722c"
      },
      "source": [
        "Print the message _Three items from the middle of the list are:_. Use a slice to print three items from the middle of the list."
      ]
    },
    {
      "cell_type": "code",
      "execution_count": 17,
      "id": "6859a061",
      "metadata": {
        "vscode": {
          "languageId": "python"
        },
        "id": "6859a061",
        "colab": {
          "base_uri": "https://localhost:8080/"
        },
        "outputId": "4003703d-5c1b-4853-bb39-fc799755caf2"
      },
      "outputs": [
        {
          "output_type": "stream",
          "name": "stdout",
          "text": [
            "The middle three items in the list names are:  ['Jill', 'Julie', 'Jan']\n"
          ]
        }
      ],
      "source": [
        "print(\"The middle three items in the list names are: \", names[2:5])"
      ]
    },
    {
      "cell_type": "markdown",
      "id": "0abc8cec",
      "metadata": {
        "id": "0abc8cec"
      },
      "source": [
        "Print the message _The last three items in the list are:_. Use a slice to print the last three items in the list."
      ]
    },
    {
      "cell_type": "code",
      "execution_count": 18,
      "id": "64988cac",
      "metadata": {
        "vscode": {
          "languageId": "python"
        },
        "id": "64988cac",
        "colab": {
          "base_uri": "https://localhost:8080/"
        },
        "outputId": "27ee7f09-c442-4c54-88dd-9bf34a4af47c"
      },
      "outputs": [
        {
          "output_type": "stream",
          "name": "stdout",
          "text": [
            "The middle three items in the list names are:  ['Jan', 'John', 'Jane']\n"
          ]
        }
      ],
      "source": [
        "print(\"The middle three items in the list names are: \", names[4:7])"
      ]
    },
    {
      "cell_type": "markdown",
      "id": "36876b9d",
      "metadata": {
        "id": "36876b9d"
      },
      "source": [
        "## Question 14\n",
        "\n",
        "**Buffet:** A buffet-style restaurant offers only five basic foods. Think of five simple foods, and store them in a tuple.\n",
        "\n",
        "Use a for loop to print each food the restaurant offers."
      ]
    },
    {
      "cell_type": "code",
      "execution_count": 19,
      "id": "6f186d8a",
      "metadata": {
        "vscode": {
          "languageId": "python"
        },
        "id": "6f186d8a",
        "colab": {
          "base_uri": "https://localhost:8080/"
        },
        "outputId": "bcf364e5-3fc8-4272-ff6b-bc4a0dbe253a"
      },
      "outputs": [
        {
          "output_type": "stream",
          "name": "stdout",
          "text": [
            "salad\n",
            "steak\n",
            "hamburger\n",
            "hotdog\n",
            "spaghetti\n"
          ]
        }
      ],
      "source": [
        "foods = (\"salad\", \"steak\", \"hamburger\", \"hotdog\", \"spaghetti\")\n",
        "\n",
        "for i in foods:\n",
        "  print(i)"
      ]
    },
    {
      "cell_type": "markdown",
      "id": "0a6ba7f3",
      "metadata": {
        "id": "0a6ba7f3"
      },
      "source": [
        "The restaurant changes its menu, replacing two of the items with different foods. Add a line that rewrites the tuple, and then use a for loop to print each of the items on the revised menu."
      ]
    },
    {
      "cell_type": "code",
      "execution_count": 20,
      "id": "79b11cbc",
      "metadata": {
        "vscode": {
          "languageId": "python"
        },
        "id": "79b11cbc",
        "colab": {
          "base_uri": "https://localhost:8080/"
        },
        "outputId": "ff15d5b3-fdfe-4b84-b1f8-9a93d68d25ba"
      },
      "outputs": [
        {
          "output_type": "stream",
          "name": "stdout",
          "text": [
            "chicken\n",
            "soup\n",
            "hamburger\n",
            "hotdog\n",
            "spaghetti\n"
          ]
        }
      ],
      "source": [
        "foods = (\"chicken\", \"soup\", \"hamburger\", \"hotdog\", \"spaghetti\")\n",
        "\n",
        "for i in foods:\n",
        "  print(i)"
      ]
    },
    {
      "cell_type": "markdown",
      "id": "337ac27d",
      "metadata": {
        "id": "337ac27d"
      },
      "source": [
        "## Question 15\n",
        "\n",
        "**Alien Colors:** Imagine an alien was just shot down in a game. Create a variable called `alien_color` and assign it a value of `green, yellow,` or `red`.\n",
        "\n",
        "-   Write an if statement to test whether the alien’s color is green. If it is, print a message that the player just earned 5 points.\n",
        "-   Write one version of this program that passes the if test and another that fails. (The version that fails will have no output.)"
      ]
    },
    {
      "cell_type": "code",
      "execution_count": 21,
      "id": "cc3198fa",
      "metadata": {
        "vscode": {
          "languageId": "python"
        },
        "id": "cc3198fa",
        "colab": {
          "base_uri": "https://localhost:8080/"
        },
        "outputId": "6c115f65-33f7-4088-cc1d-7689e0dffc72"
      },
      "outputs": [
        {
          "output_type": "stream",
          "name": "stdout",
          "text": [
            "Player just earned 5 points!\n"
          ]
        }
      ],
      "source": [
        "alien_color = \"green\"\n",
        "\n",
        "if alien_color==\"green\":\n",
        "  print(\"Player just earned 5 points!\")\n",
        "\n",
        "\n",
        "alien_color = \"red\"\n",
        "\n",
        "if alien_color==\"green\":\n",
        "  print(\"Player just earned 5 points!\")\n",
        "\n"
      ]
    },
    {
      "cell_type": "markdown",
      "id": "57465bab",
      "metadata": {
        "id": "57465bab"
      },
      "source": [
        "## Question 16\n",
        "\n",
        "**Stages of Life:** Write an `if-elif-else` chain that determines a person’s stage of life. Set a value for the variable `age`, and then:\n",
        "\n",
        "-   If the person is less than 2 years old, print a message that the person is a baby.\n",
        "-   If the person is at least 2 years old but less than 4, print a message that the person is a toddler.\n",
        "-   If the person is at least 4 years old but less than 13, print a message that the person is a kid.\n",
        "-   If the person is at least 13 years old but less than 20, print a message that the person is a teenager.\n",
        "-   If the person is at least 20 years old but less than 65, print a message that the person is an adult."
      ]
    },
    {
      "cell_type": "code",
      "execution_count": 22,
      "id": "b09c364a",
      "metadata": {
        "vscode": {
          "languageId": "python"
        },
        "id": "b09c364a",
        "colab": {
          "base_uri": "https://localhost:8080/"
        },
        "outputId": "547249f8-5fae-4b9e-8ce3-f5a5f5ea3529"
      },
      "outputs": [
        {
          "output_type": "stream",
          "name": "stdout",
          "text": [
            "This is a baby.\n"
          ]
        }
      ],
      "source": [
        "age = 1\n",
        "\n",
        "if age<2:\n",
        "  print(\"This is a baby.\")\n",
        "\n",
        "elif age>=2 and age<4:\n",
        "  print(\"This is a toddler.\")\n",
        "\n",
        "elif age>=4 and age<13:\n",
        "  print(\"This is a kid.\")\n",
        "\n",
        "elif age>=13 and age<20:\n",
        "  print(\"This is a teenager.\")\n",
        "\n",
        "else:\n",
        "  print(\"This is an adult.\")"
      ]
    },
    {
      "cell_type": "markdown",
      "id": "96b3da06",
      "metadata": {
        "id": "96b3da06"
      },
      "source": [
        "## Question 17\n",
        "\n",
        "**Favorite Fruit:** Make a list of your favorite fruits, and then write a series of independent `if` statements that check for certain fruits in your list.\n",
        "\n",
        "-   Make a list of your three favorite fruits and call it favorite_fruits.\n",
        "-   Write five if statements. Each should check whether a certain kind of fruit is in your list. If the fruit is in your list, the if block should print a statement, such as You really like bananas!"
      ]
    },
    {
      "cell_type": "code",
      "execution_count": 23,
      "id": "fc58635c",
      "metadata": {
        "vscode": {
          "languageId": "python"
        },
        "id": "fc58635c",
        "colab": {
          "base_uri": "https://localhost:8080/"
        },
        "outputId": "f8a4a678-4190-4cba-8582-72d052fd46ae"
      },
      "outputs": [
        {
          "output_type": "stream",
          "name": "stdout",
          "text": [
            "You really like peaches!\n",
            "You really like pears!\n"
          ]
        }
      ],
      "source": [
        "favorite_fruits = [\"peach\", \"pear\", \"blueberry\"]\n",
        "\n",
        "if favorite_fruits.count(\"peach\")>0:\n",
        "  print(\"You really like peaches!\")\n",
        "\n",
        "if favorite_fruits.count(\"apple\")>0:\n",
        "  print(\"You really like apples!\")\n",
        "\n",
        "if favorite_fruits.count(\"banana\")>0:\n",
        "  print(\"You really like bananas!\")\n",
        "\n",
        "if favorite_fruits.count(\"pear\")>0:\n",
        "  print(\"You really like pears!\")\n",
        "\n",
        "if favorite_fruits.count(\"plum\")>0:\n",
        "  print(\"You really like plums!\")"
      ]
    },
    {
      "cell_type": "markdown",
      "id": "71e4c6f1",
      "metadata": {
        "id": "71e4c6f1"
      },
      "source": [
        "## Question 18\n",
        "\n",
        "**Hello Admin:** Make a list of five or more usernames, including the name `admin`. Imagine you are writing code that will print a greeting to each user after they log in to a website. Loop through the list, and print a greeting to each user:\n",
        "\n",
        "-   If the username is 'admin', print a special greeting, such as _Hello admin, would you like to see a status report?_\n",
        "-   Otherwise, print a generic greeting, such as _Hello Jaden, thank you for logging in again_."
      ]
    },
    {
      "cell_type": "code",
      "execution_count": 27,
      "id": "651e8bf2",
      "metadata": {
        "vscode": {
          "languageId": "python"
        },
        "id": "651e8bf2",
        "colab": {
          "base_uri": "https://localhost:8080/"
        },
        "outputId": "1647695d-e0c1-4240-d87c-227b96e5114e"
      },
      "outputs": [
        {
          "output_type": "stream",
          "name": "stdout",
          "text": [
            "Hello admin, what can I help you with?\n",
            "Hello who, you have now logged in.\n",
            "Hello what, you have now logged in.\n",
            "Hello where, you have now logged in.\n",
            "Hello why, you have now logged in.\n",
            "Hello how, you have now logged in.\n"
          ]
        }
      ],
      "source": [
        "usernames = [\"admin\", \"who\", \"what\", \"where\", \"why\", \"how\"]\n",
        "\n",
        "for i in usernames:\n",
        "  if i == \"admin\":\n",
        "    print(\"Hello admin, what can I help you with?\")\n",
        "  \n",
        "  else:\n",
        "    print(\"Hello \", i, \", you have now logged in.\", sep='')"
      ]
    },
    {
      "cell_type": "markdown",
      "id": "fd53a583",
      "metadata": {
        "id": "fd53a583"
      },
      "source": [
        "## Question 19\n",
        "\n",
        "**Checking Usernames:** Do the following to create a program that simulates how websites ensure that everyone has a unique username.\n",
        "\n",
        "-   Make a list of five or more usernames called `current_users`.\n",
        "-   Make another list of five usernames called `new_users`. Make sure one or two of the new usernames are also in the `current_users` list.\n",
        "-   Loop through the `new_users` list to see if each new username has already been used. If it has, print a message that the person will need to enter a new username. If a username has not been used, print a message saying that the username is available.\n",
        "-   Make sure your comparison is case insensitive. If 'John' has been used, 'JOHN' should not be accepted. (To do this, you’ll need to make a copy of `current_users` containing the lowercase versions of all existing users.)"
      ]
    },
    {
      "cell_type": "code",
      "execution_count": 25,
      "id": "9f1a4a8d",
      "metadata": {
        "vscode": {
          "languageId": "python"
        },
        "id": "9f1a4a8d",
        "colab": {
          "base_uri": "https://localhost:8080/"
        },
        "outputId": "1f5cec63-a0ed-4ab7-cdf7-f84e0599872c"
      },
      "outputs": [
        {
          "output_type": "stream",
          "name": "stdout",
          "text": [
            "This username is available.\n",
            "This username is available.\n",
            "This username is available.\n",
            "This username is not available, please choose a different username.\n",
            "This username is not available, please choose a different username.\n"
          ]
        }
      ],
      "source": [
        "current_users = [\"yes\", \"Yeah\", \"Yep\", \"Yup\", \"yay\", \"uh-Huh\"]\n",
        "new_users = [\"no\", \"nope\", \"Nah\", \"yeah\", \"yep\"]\n",
        "\n",
        "for i in new_users:\n",
        "\n",
        "  check = 0\n",
        "  for j in current_users:\n",
        "    if i.lower()==j.lower():\n",
        "      check = check +1\n",
        "  \n",
        "  if check>0:\n",
        "    print(\"This username is not available, please choose a different username.\")\n",
        "  else:\n",
        "    print(\"This username is available.\")\n"
      ]
    },
    {
      "cell_type": "markdown",
      "id": "20f8412b",
      "metadata": {
        "id": "20f8412b"
      },
      "source": [
        "## Question 20\n",
        "\n",
        "**Ordinal Numbers:** Ordinal numbers indicate their position in a list, such as _1st_ or _2nd_. Most ordinal numbers end in _th_, except 1, 2, and 3.\n",
        "\n",
        "-   Store the numbers 1 through 9 in a list.\n",
        "-   Loop through the list.\n",
        "-   Use an `if-elif-else` chain inside the loop to print the proper ordinal ending for each number. Your output should read \"1st 2nd 3rd 4th 5th 6th 7th 8th 9th\", and each result should be on a separate line."
      ]
    },
    {
      "cell_type": "code",
      "execution_count": 26,
      "id": "6231e1e4",
      "metadata": {
        "vscode": {
          "languageId": "python"
        },
        "id": "6231e1e4",
        "colab": {
          "base_uri": "https://localhost:8080/"
        },
        "outputId": "75c885cc-4b12-4c05-d738-d837b5e46c1b"
      },
      "outputs": [
        {
          "output_type": "stream",
          "name": "stdout",
          "text": [
            "1st\n",
            "2nd\n",
            "3rd\n",
            "4th\n",
            "5th\n",
            "6th\n",
            "7th\n",
            "8th\n",
            "9th\n"
          ]
        }
      ],
      "source": [
        "numbers = range(1,10)\n",
        "\n",
        "for i in numbers:\n",
        "  if i==1:\n",
        "    print(\"1st\")\n",
        "  elif i==2:\n",
        "    print(\"2nd\")\n",
        "  elif i==3:\n",
        "    print(\"3rd\")\n",
        "  else:\n",
        "    print(i,\"th\", sep='')"
      ]
    }
  ],
  "metadata": {
    "kernelspec": {
      "display_name": "Python 3",
      "language": "python",
      "name": "python3"
    },
    "colab": {
      "provenance": [],
      "include_colab_link": true
    }
  },
  "nbformat": 4,
  "nbformat_minor": 5
}
