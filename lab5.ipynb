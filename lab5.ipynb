{
  "cells": [
    {
      "cell_type": "markdown",
      "metadata": {
        "id": "view-in-github",
        "colab_type": "text"
      },
      "source": [
        "<a href=\"https://colab.research.google.com/github/ZachDorm/GEOG510-Test/blob/main/lab5.ipynb\" target=\"_parent\"><img src=\"https://colab.research.google.com/assets/colab-badge.svg\" alt=\"Open In Colab\"/></a>"
      ]
    },
    {
      "cell_type": "markdown",
      "id": "4e70be69",
      "metadata": {
        "id": "4e70be69"
      },
      "source": [
        "# Lab 5\n",
        "\n",
        "[![image](https://colab.research.google.com/assets/colab-badge.svg)](https://colab.research.google.com/github/giswqs/geosdemo/blob/master/docs/labs/lab5.ipynb)\n",
        "\n",
        "## Submission instructions\n",
        "\n",
        "1. Download the notebook from https://geosdemo.gishub.org/labs/lab5\n",
        "2. Complete the lab questions\n",
        "3. Restart Kernel and Run All Cells\n",
        "4. Upload the notebook to your GitHub repository\n",
        "5. Make sure the notebook has an `Open In Colab` badge. Click on the badge to make sure your notebook can be opened in Colab.\n",
        "6. Submit the link to the notebook on your GitHub repository to Canvas"
      ]
    },
    {
      "cell_type": "code",
      "execution_count": null,
      "id": "8de60915",
      "metadata": {
        "id": "8de60915",
        "colab": {
          "base_uri": "https://localhost:8080/"
        },
        "outputId": "aa1564b5-8293-4a3f-b191-e108b3f3d441"
      },
      "outputs": [
        {
          "output_type": "stream",
          "name": "stdout",
          "text": [
            "Submitted time: 2023-03-22 00:53:45.579322\n"
          ]
        }
      ],
      "source": [
        "from datetime import datetime\n",
        "\n",
        "now = datetime.now()\n",
        "print(f\"Submitted time: {now}\")"
      ]
    },
    {
      "cell_type": "markdown",
      "id": "a526d1ff",
      "metadata": {
        "id": "a526d1ff"
      },
      "source": [
        "## Question 1\n",
        "\n",
        "**Person:** Use a dictionary to store information about a person you know. Store their first name, last name, age, and the city in which they live. You should have keys such as first_name, last_name, age, and city. Print each piece of information stored in your dictionary."
      ]
    },
    {
      "cell_type": "code",
      "execution_count": null,
      "id": "060bd962",
      "metadata": {
        "colab": {
          "base_uri": "https://localhost:8080/"
        },
        "id": "060bd962",
        "outputId": "0bc1df8b-ec18-41e9-84ec-64a83cfc5469"
      },
      "outputs": [
        {
          "output_type": "stream",
          "name": "stdout",
          "text": [
            "Zach\n",
            "Dorminey\n",
            "26\n",
            "Knoxville\n"
          ]
        }
      ],
      "source": [
        "person_dictionary = {\n",
        "    \"first_name\" : \"Zach\",\n",
        "    \"last_name\" : \"Dorminey\",\n",
        "    \"age\" : 26,\n",
        "    \"city\" : \"Knoxville\"\n",
        "}\n",
        "\n",
        "print(person_dictionary[\"first_name\"])\n",
        "print(person_dictionary[\"last_name\"])\n",
        "print(person_dictionary[\"age\"])\n",
        "print(person_dictionary[\"city\"])"
      ]
    },
    {
      "cell_type": "markdown",
      "id": "32bb120e",
      "metadata": {
        "id": "32bb120e"
      },
      "source": [
        "## Question 2\n",
        "\n",
        "**Favorite Numbers:** Use a dictionary to store people’s favorite numbers. Think of five names, and use them as keys in your dictionary. Think of a favorite number for each person, and store each as a value in your dictionary. Print each person’s name and their favorite number. For even more fun, poll a few friends and get some actual data for your program."
      ]
    },
    {
      "cell_type": "code",
      "execution_count": null,
      "id": "37115a33",
      "metadata": {
        "colab": {
          "base_uri": "https://localhost:8080/"
        },
        "id": "37115a33",
        "outputId": "932394ba-f333-438e-b9e1-7cb620146b97"
      },
      "outputs": [
        {
          "output_type": "stream",
          "name": "stdout",
          "text": [
            "Sue   13\n",
            "Sally   3\n",
            "Sam   23\n",
            "Jill   11\n",
            "Jim   17\n"
          ]
        }
      ],
      "source": [
        "fav_nums = {\n",
        "    \"Sue\" : 13,\n",
        "    \"Sally\" : 3,\n",
        "    \"Sam\" : 23,\n",
        "    \"Jill\" : 11,\n",
        "    \"Jim\" : 17\n",
        "}\n",
        "\n",
        "keys = fav_nums.keys()\n",
        "\n",
        "for key in keys:\n",
        "  print(key, \" \", fav_nums[key])\n"
      ]
    },
    {
      "cell_type": "markdown",
      "id": "eb31ca53",
      "metadata": {
        "id": "eb31ca53"
      },
      "source": [
        "## Question 3\n",
        "\n",
        "**Glossary:** A Python dictionary can be used to model an actual dictionary. However, to avoid confusion, let’s call it a glossary.\n",
        "\n",
        "- Think of five programming words you’ve learned about in the previous chapters. Use these words as the keys in your glossary, and store their meanings as values.\n",
        "- Print each word and its meaning as neatly formatted output. You might print the word followed by a colon and then its meaning, or print the word on one line and then print its meaning indented on a second line. Use the newline character (\\n) to insert a blank line between each word-meaning pair in your output."
      ]
    },
    {
      "cell_type": "code",
      "execution_count": null,
      "id": "7bdd7f86",
      "metadata": {
        "id": "7bdd7f86",
        "colab": {
          "base_uri": "https://localhost:8080/"
        },
        "outputId": "0c6959cf-2a62-4f9b-c226-331215d85d3c"
      },
      "outputs": [
        {
          "output_type": "stream",
          "name": "stdout",
          "text": [
            "return \n",
            "\t The value following this statement will be the value returned when a method/function terminates. \n",
            "\n",
            "break \n",
            "\t The current loop will stop and the operation will return to the next outer loop if loops are nested, or just stop computation. \n",
            "\n",
            "for \n",
            "\t The beginning of a for loop where each item in a list or matrix will be iterated through. \n",
            "\n",
            "while \n",
            "\t The conditional statement that follows this will be checked, as long as this statement is TRUE, the contents inside will be run. Then the conditional statement will be checked again. \n",
            "\n",
            "elif \n",
            "\t Traditionally else-if meaning the following chuck of code should be run if the preceding if statements returned FALSE and the conditional statement following this keyword is TRUE. \n",
            "\n"
          ]
        }
      ],
      "source": [
        "programming = {\n",
        "    \"return\": \"The value following this statement will be the value returned when a method/function terminates.\",\n",
        "    \"break\": \"The current loop will stop and the operation will return to the next outer loop if loops are nested, or just stop computation.\",\n",
        "    \"for\": \"The beginning of a for loop where each item in a list or matrix will be iterated through.\",\n",
        "    \"while\": \"The conditional statement that follows this will be checked, as long as this statement is TRUE, the contents inside will be run. Then the conditional statement will be checked again.\",\n",
        "    \"elif\": \"Traditionally else-if meaning the following chuck of code should be run if the preceding if statements returned FALSE and the conditional statement following this keyword is TRUE.\"\n",
        "}\n",
        "\n",
        "keys = programming.keys()\n",
        "\n",
        "for key in keys:\n",
        "  print(key, \"\\n\\t\", programming[key], \"\\n\")"
      ]
    },
    {
      "cell_type": "markdown",
      "id": "9bdb2d85",
      "metadata": {
        "id": "9bdb2d85"
      },
      "source": [
        "## Question 4\n",
        "\n",
        "**Glossary 2:** Now that you know how to loop through a dictionary, clean up the code from Question 3 by replacing your series of print() calls with a loop that runs through the dictionary’s keys and values. When you’re sure that your loop works, add five more Python terms to your glossary. When you run your program again, these new words and meanings should automatically be included in the output."
      ]
    },
    {
      "cell_type": "code",
      "execution_count": null,
      "id": "018d37ff",
      "metadata": {
        "id": "018d37ff",
        "colab": {
          "base_uri": "https://localhost:8080/"
        },
        "outputId": "832b6711-caa1-42c5-f4a2-e63252f6d8fd"
      },
      "outputs": [
        {
          "output_type": "stream",
          "name": "stdout",
          "text": [
            "return \n",
            "\t The value following this statement will be the value returned when a method/function terminates. \n",
            "\n",
            "break \n",
            "\t The current loop will stop and the operation will return to the next outer loop if loops are nested, or just stop computation. \n",
            "\n",
            "for \n",
            "\t The beginning of a for loop where each item in a list or matrix will be iterated through. \n",
            "\n",
            "while \n",
            "\t The conditional statement that follows this will be checked, as long as this statement is TRUE, the contents inside will be run. Then the conditional statement will be checked again. \n",
            "\n",
            "elif \n",
            "\t Traditionally else-if meaning the following chuck of code should be run if the preceding if statements returned FALSE and the conditional statement following this keyword is TRUE. \n",
            "\n",
            "def \n",
            "\t Defining the beginning of a function or method. \n",
            "\n",
            "class \n",
            "\t Creates a new class, which is useful in object-oriented programming. \n",
            "\n",
            "__init__ \n",
            "\t The init function, also known as the constructor, accepts arguments as a method to create a new object belonging to its class. The class Car would have an __init__ constructor that might accept arguments for gas tank size and engine size. \n",
            "\n",
            "kargs \n",
            "\t A very useful tool for flexible programming, this is a keyword that allows the user to provide any arguments they want to a new object, regardless of the parameters included in the __init__ method. This keyword will lump any unassigned parameters into this group as it instantiates an object belonging to the given class. \n",
            "\n",
            "in \n",
            "\t Preceded by a name of an object, and followed by a list of objects, this keyword is often used in for loop statements to specify the current object in a given list as it iterates one by one through the list. \n",
            "\n"
          ]
        }
      ],
      "source": [
        "programming = {\n",
        "    \"return\": \"The value following this statement will be the value returned when a method/function terminates.\",\n",
        "    \"break\": \"The current loop will stop and the operation will return to the next outer loop if loops are nested, or just stop computation.\",\n",
        "    \"for\": \"The beginning of a for loop where each item in a list or matrix will be iterated through.\",\n",
        "    \"while\": \"The conditional statement that follows this will be checked, as long as this statement is TRUE, the contents inside will be run. Then the conditional statement will be checked again.\",\n",
        "    \"elif\": \"Traditionally else-if meaning the following chuck of code should be run if the preceding if statements returned FALSE and the conditional statement following this keyword is TRUE.\",\n",
        "    \"def\": \"Defining the beginning of a function or method.\",\n",
        "    \"class\": \"Creates a new class, which is useful in object-oriented programming.\",\n",
        "    \"__init__\": \"The init function, also known as the constructor, accepts arguments as a method to create a new object belonging to its class. The class Car would have an __init__ constructor that might accept arguments for gas tank size and engine size.\",\n",
        "    \"kargs\": \"A very useful tool for flexible programming, this is a keyword that allows the user to provide any arguments they want to a new object, regardless of the parameters included in the __init__ method. This keyword will lump any unassigned parameters into this group as it instantiates an object belonging to the given class.\",\n",
        "    \"in\": \"Preceded by a name of an object, and followed by a list of objects, this keyword is often used in for loop statements to specify the current object in a given list as it iterates one by one through the list.\"\n",
        "}\n",
        "\n",
        "keys = programming.keys()\n",
        "\n",
        "for key in keys:\n",
        "  print(key, \"\\n\\t\", programming[key], \"\\n\")"
      ]
    },
    {
      "cell_type": "markdown",
      "id": "375356d5",
      "metadata": {
        "id": "375356d5"
      },
      "source": [
        "## Question 5\n",
        "\n",
        "**Rivers:** Make a dictionary containing three major rivers and the country each river runs through. One key-value pair might be 'nile': 'egypt'.\n",
        "\n",
        "- Use a loop to print a sentence about each river, such as _The Nile runs through Egypt._\n",
        "- Use a loop to print the name of each river included in the dictionary.\n",
        "- Use a loop to print the name of each country included in the dictionary."
      ]
    },
    {
      "cell_type": "code",
      "execution_count": null,
      "id": "2fd7b758",
      "metadata": {
        "id": "2fd7b758",
        "colab": {
          "base_uri": "https://localhost:8080/"
        },
        "outputId": "178c1baf-490d-4b2d-8d44-fda530f2895f"
      },
      "outputs": [
        {
          "output_type": "stream",
          "name": "stdout",
          "text": [
            "The Mississippi River runs through the United States of America.\n",
            "The Amazon River runs through Peru, Colombia, and Brazil.\n",
            "The River Thames runs through England.\n"
          ]
        }
      ],
      "source": [
        "rivers = {\n",
        "    \"Mississippi River\": \"the United States of America\",\n",
        "    \"Amazon River\": \"Peru, Colombia, and Brazil\",\n",
        "    \"River Thames\": \"England\"\n",
        "}\n",
        "\n",
        "keys = rivers.keys()\n",
        "\n",
        "for key in keys:\n",
        "  print(\"The \", key, \" runs through \", rivers[key], \".\", sep=\"\")"
      ]
    },
    {
      "cell_type": "markdown",
      "id": "8b0b500d",
      "metadata": {
        "id": "8b0b500d"
      },
      "source": [
        "## Question 6\n",
        "\n",
        "**Cities:** Make a dictionary called `cities`. Use the names of three cities as keys in your dictionary. Create a dictionary of information about each city and include the country that the city is in, its approximate population, and one fact about that city. The keys for each city’s dictionary should be something like `country`, `population`, and `fact`. Print the name of each city and all of the information you have stored about it."
      ]
    },
    {
      "cell_type": "code",
      "execution_count": null,
      "id": "28a77010",
      "metadata": {
        "id": "28a77010",
        "colab": {
          "base_uri": "https://localhost:8080/"
        },
        "outputId": "b4310481-a73f-4618-e0f7-483e6a0faa8c"
      },
      "outputs": [
        {
          "output_type": "stream",
          "name": "stdout",
          "text": [
            "New York City\n",
            "\n",
            "\t country : USA\n",
            "\n",
            "\tpopulation : 8.5m\n",
            "\n",
            "\tfact : New York is the location of the most iconic New Year's Eve celebration in the US.\n",
            "Sydney\n",
            "\n",
            "\t country : Australia\n",
            "\n",
            "\tpopulation : 5.3m\n",
            "\n",
            "\tfact : The Sydney Opera House and the Sydney Harbour Bridge are two of the iconic structures in the Sydney skyline.\n",
            "London\n",
            "\n",
            "\t country : England\n",
            "\n",
            "\tpopulation : 8.9m\n",
            "\n",
            "\tfact : The River Thames runs through London.\n"
          ]
        }
      ],
      "source": [
        "cities = {\n",
        "    \"New York City\": {\"country\": \"USA\", \"population\": \"8.5m\", \"fact\": \"New York is the location of the most iconic New Year's Eve celebration in the US.\"},\n",
        "    \"Sydney\": {\"country\": \"Australia\", \"population\": \"5.3m\", \"fact\": \"The Sydney Opera House and the Sydney Harbour Bridge are two of the iconic structures in the Sydney skyline.\"},\n",
        "    \"London\": {\"country\": \"England\", \"population\": \"8.9m\", \"fact\": \"The River Thames runs through London.\"},\n",
        "}\n",
        "\n",
        "keys = cities.keys()\n",
        "\n",
        "for key in keys:\n",
        "  print(key)\n",
        "  print(\"\\n\\t country :\", cities[key].get(\"country\"))\n",
        "  print(\"\\n\\tpopulation :\", cities[key].get(\"population\"))\n",
        "  print(\"\\n\\tfact :\", cities[key].get(\"fact\"))"
      ]
    },
    {
      "cell_type": "markdown",
      "id": "874541d3",
      "metadata": {
        "id": "874541d3"
      },
      "source": [
        "## Question 7\n",
        "\n",
        "**Rental Car:** Write a program that asks the user what kind of rental car they would like. Print a message about that car, such as “Let me see if I can find you a Subaru.”"
      ]
    },
    {
      "cell_type": "code",
      "execution_count": null,
      "id": "5283628b",
      "metadata": {
        "id": "5283628b",
        "colab": {
          "base_uri": "https://localhost:8080/"
        },
        "outputId": "ac33a406-3095-4462-a651-fa3d16e5412e"
      },
      "outputs": [
        {
          "output_type": "stream",
          "name": "stdout",
          "text": [
            "What kind of rental car would you like? \n",
            "Jeep\n",
            "I think we have one of those, let me check to see if we have a Jeep.\n"
          ]
        }
      ],
      "source": [
        "car = input(\"What kind of rental car would you like? \\n\")\n",
        "\n",
        "print(\"I think we have one of those, let me check to see if we have a \", car, \".\", sep=\"\")"
      ]
    },
    {
      "cell_type": "markdown",
      "id": "e03a200a",
      "metadata": {
        "id": "e03a200a"
      },
      "source": [
        "## Question 8\n",
        "\n",
        "**Restaurant Seating:** Write a program that asks the user how many people are in their dinner group. If the answer is more than eight, print a message saying they’ll have to wait for a table. Otherwise, report that their table is ready."
      ]
    },
    {
      "cell_type": "code",
      "execution_count": null,
      "id": "96167a0f",
      "metadata": {
        "id": "96167a0f",
        "colab": {
          "base_uri": "https://localhost:8080/"
        },
        "outputId": "1aad6de4-1161-497b-f6f4-dae1d62bdfff"
      },
      "outputs": [
        {
          "output_type": "stream",
          "name": "stdout",
          "text": [
            "How many people will be in your dinner group? \n",
            "8\n",
            "Ok, you're table is ready.\n"
          ]
        }
      ],
      "source": [
        "num = input(\"How many people will be in your dinner group? \\n\")\n",
        "num=int(num)\n",
        "\n",
        "if num>8:\n",
        "  print(\"You'll have to wait for a table.\")\n",
        "\n",
        "else:\n",
        "  print(\"Ok, you're table is ready.\")\n"
      ]
    },
    {
      "cell_type": "markdown",
      "id": "a523d8a7",
      "metadata": {
        "id": "a523d8a7"
      },
      "source": [
        "## Question 9\n",
        "\n",
        "**Multiples of Ten:** Ask the user for a number, and then report whether the number is a multiple of 10 or not."
      ]
    },
    {
      "cell_type": "code",
      "execution_count": null,
      "id": "77c9702e",
      "metadata": {
        "id": "77c9702e",
        "colab": {
          "base_uri": "https://localhost:8080/"
        },
        "outputId": "10e19994-bccb-45ff-ca01-ca49cc9f7887"
      },
      "outputs": [
        {
          "output_type": "stream",
          "name": "stdout",
          "text": [
            "Please enter a number. \n",
            "11\n",
            "11.0 is not a multiple of 10.\n"
          ]
        }
      ],
      "source": [
        "num = input(\"Please enter a number. \\n\")\n",
        "num=float(num)\n",
        "\n",
        "if num%10.0==0.0:\n",
        "  print(num, \" is a multiple of 10.\", sep=\"\")\n",
        "\n",
        "else:\n",
        "  print(num, \" is not a multiple of 10.\", sep=\"\")"
      ]
    },
    {
      "cell_type": "markdown",
      "id": "de550983",
      "metadata": {
        "id": "de550983"
      },
      "source": [
        "## Question 10\n",
        "\n",
        "**Pizza Toppings:** Write a loop that prompts the user to enter a series of pizza toppings until they enter a 'quit' value. As they enter each topping, print a message saying you’ll add that topping to their pizza."
      ]
    },
    {
      "cell_type": "code",
      "execution_count": null,
      "id": "11f4d8e4",
      "metadata": {
        "id": "11f4d8e4",
        "colab": {
          "base_uri": "https://localhost:8080/"
        },
        "outputId": "21fa6eac-98f4-4132-9629-5448c94e6079"
      },
      "outputs": [
        {
          "name": "stdout",
          "output_type": "stream",
          "text": [
            "I'll add  to your pizza.\n",
            "Enter pizza toppings, when done, type \"quit\"\n",
            "quit\n"
          ]
        }
      ],
      "source": [
        "topping=\"\"\n",
        "\n",
        "while topping !=\"quit\":\n",
        "\n",
        "  print(\"I'll add \", topping, \" to your pizza.\", sep=\"\")\n",
        "  topping = input(\"Enter pizza toppings, when done, type \\\"quit\\\"\\n\")\n"
      ]
    },
    {
      "cell_type": "markdown",
      "id": "ccfe4831",
      "metadata": {
        "id": "ccfe4831"
      },
      "source": [
        "## Question 11\n",
        "\n",
        "**Message:** Write a function called `display_message()` that prints one sentence telling everyone what you are learning about in this chapter. Call the function, and make sure the message displays correctly."
      ]
    },
    {
      "cell_type": "code",
      "execution_count": null,
      "id": "7080b52a",
      "metadata": {
        "id": "7080b52a"
      },
      "outputs": [],
      "source": [
        "def display_message():\n",
        "  print(\"I was not familiar with the concept of a python dictionary until last week.\")\n"
      ]
    },
    {
      "cell_type": "code",
      "source": [
        "display_message()"
      ],
      "metadata": {
        "colab": {
          "base_uri": "https://localhost:8080/"
        },
        "id": "XBXXLzjV8-5B",
        "outputId": "c5da63f9-3f9b-461d-d7e4-affc2983cf30"
      },
      "id": "XBXXLzjV8-5B",
      "execution_count": null,
      "outputs": [
        {
          "output_type": "stream",
          "name": "stdout",
          "text": [
            "I was not familiar with the concept of a python dictionary until last week.\n"
          ]
        }
      ]
    },
    {
      "cell_type": "markdown",
      "id": "2b5e23db",
      "metadata": {
        "id": "2b5e23db"
      },
      "source": [
        "## Question 12\n",
        "\n",
        "**Favorite Book:** Write a function called `favorite_book()` that accepts one parameter, title. The function should print a message, such as `One of my favorite books is Alice in Wonderland`. Call the function, making sure to include a book title as an argument in the function call."
      ]
    },
    {
      "cell_type": "code",
      "execution_count": null,
      "id": "b33bd108",
      "metadata": {
        "id": "b33bd108"
      },
      "outputs": [],
      "source": [
        "def favorite_book(title):\n",
        "  print(title, \" is my favorite book!\", sep=\"\")"
      ]
    },
    {
      "cell_type": "code",
      "source": [
        "favorite_book(\"A Wrinkle in Time\")"
      ],
      "metadata": {
        "colab": {
          "base_uri": "https://localhost:8080/"
        },
        "id": "0OUJLO-i9W-2",
        "outputId": "df84dc1f-95ed-4c44-b743-c94319ac53fa"
      },
      "id": "0OUJLO-i9W-2",
      "execution_count": null,
      "outputs": [
        {
          "output_type": "stream",
          "name": "stdout",
          "text": [
            "A Wrinkle in Time is my favorite book!\n"
          ]
        }
      ]
    },
    {
      "cell_type": "markdown",
      "id": "4904419f",
      "metadata": {
        "id": "4904419f"
      },
      "source": [
        "## Question 13\n",
        "\n",
        "**T-Shirt:** Write a function called `make_shirt()` that accepts a size and the text of a message that should be printed on the shirt. The function should print a sentence summarizing the size of the shirt and the message printed on it.\n",
        "\n",
        "Call the function once using positional arguments to make a shirt. Call the function a second time using keyword arguments."
      ]
    },
    {
      "cell_type": "code",
      "execution_count": null,
      "id": "53d690ca",
      "metadata": {
        "id": "53d690ca"
      },
      "outputs": [],
      "source": [
        "def make_shirt(size, mess):\n",
        "  print(\"The shirt will be sized \", size, \" and will say \", mess, sep=\"\")\n"
      ]
    },
    {
      "cell_type": "code",
      "source": [
        "make_shirt(\"XL\", \"This is a cool shirt.\")\n",
        "\n",
        "make_shirt(mess=\"Here's Johnny!\", size=\"M\")"
      ],
      "metadata": {
        "colab": {
          "base_uri": "https://localhost:8080/"
        },
        "id": "stdRDDxODnMV",
        "outputId": "2b2c0cab-c23a-4799-c8de-1d3e47f31d30"
      },
      "id": "stdRDDxODnMV",
      "execution_count": null,
      "outputs": [
        {
          "output_type": "stream",
          "name": "stdout",
          "text": [
            "The shirt will be sized XL and will say This is a cool shirt.\n",
            "The shirt will be sized M and will say Here's Johnny!\n"
          ]
        }
      ]
    },
    {
      "cell_type": "markdown",
      "id": "c6a6dc4b",
      "metadata": {
        "id": "c6a6dc4b"
      },
      "source": [
        "## Question 14\n",
        "\n",
        "**Large Shirts:** Modify the `make_shirt()` function so that shirts are large by default with a message that reads _I love Python_. Make a large shirt and a medium shirt with the default message, and a shirt of any size with a different message."
      ]
    },
    {
      "cell_type": "code",
      "execution_count": null,
      "id": "658f7e3f",
      "metadata": {
        "id": "658f7e3f"
      },
      "outputs": [],
      "source": [
        "def make_shirt(size=\"large\", mess=\"I love Python.\"):\n",
        "  print(\"The shirt will be sized \", size, \" and will say \", mess, sep=\"\")\n"
      ]
    },
    {
      "cell_type": "code",
      "source": [
        "make_shirt()\n",
        "\n",
        "make_shirt(size=\"medium\")\n",
        "\n",
        "make_shirt(size=\"small\", mess=\"This is a small shirt.\")"
      ],
      "metadata": {
        "colab": {
          "base_uri": "https://localhost:8080/"
        },
        "id": "s14Dx3MCEna5",
        "outputId": "f9e9ed47-807e-48f1-d3c0-11674a62dce8"
      },
      "id": "s14Dx3MCEna5",
      "execution_count": null,
      "outputs": [
        {
          "output_type": "stream",
          "name": "stdout",
          "text": [
            "The shirt will be sized large and will say I love Python.\n",
            "The shirt will be sized medium and will say I love Python.\n",
            "The shirt will be sized small and will say This is a small shirt.\n"
          ]
        }
      ]
    },
    {
      "cell_type": "markdown",
      "id": "64fd6e85",
      "metadata": {
        "id": "64fd6e85"
      },
      "source": [
        "## Question 15\n",
        "\n",
        "**Cities:** Write a function called `describe_city()` that accepts the name of a city and its country. The function should print a simple sentence, such as `Reykjavik is in Iceland`. Give the parameter for the country a default value. Call your function for three different cities, at least one of which is not in the default country."
      ]
    },
    {
      "cell_type": "code",
      "execution_count": null,
      "id": "bc493373",
      "metadata": {
        "id": "bc493373",
        "colab": {
          "base_uri": "https://localhost:8080/"
        },
        "outputId": "1fe681ed-1e8f-459f-b56d-b48ea287f5e7"
      },
      "outputs": [
        {
          "output_type": "stream",
          "name": "stdout",
          "text": [
            "NYC is in USA\n",
            "LA is in USA\n",
            "Johannesburg is in South Africa\n"
          ]
        }
      ],
      "source": [
        "def describe_city(city, country=\"USA\"):\n",
        "  print(city, \" is in \", country, sep=\"\")\n",
        "\n",
        "\n",
        "describe_city(city=\"NYC\")\n",
        "describe_city(city=\"LA\")\n",
        "describe_city(city=\"Johannesburg\", country=\"South Africa\")"
      ]
    },
    {
      "cell_type": "markdown",
      "id": "259cdcdc",
      "metadata": {
        "id": "259cdcdc"
      },
      "source": [
        "## Question 16\n",
        "\n",
        "**City Names:** Write a function called `city_country()` that takes in the name of a city and its country. The function should return a string formatted like this:\n",
        "\n",
        "```text\n",
        "Santiago, Chile\n",
        "```\n",
        "\n",
        "Call your function with at least three city-country pairs, and print the values that are returned."
      ]
    },
    {
      "cell_type": "code",
      "execution_count": null,
      "id": "f1b5b16e",
      "metadata": {
        "id": "f1b5b16e",
        "colab": {
          "base_uri": "https://localhost:8080/"
        },
        "outputId": "bb83834a-9902-465e-805f-3acb41f52c90"
      },
      "outputs": [
        {
          "output_type": "stream",
          "name": "stdout",
          "text": [
            "Tallahassee, USA\n",
            "Sydney, Australia\n",
            "Dublin, Ireland\n"
          ]
        }
      ],
      "source": [
        "def city_country(city, country):\n",
        "  print(city, \", \", country, sep=\"\")\n",
        "\n",
        "city_country(\"Tallahassee\", \"USA\")\n",
        "city_country(\"Sydney\", \"Australia\")\n",
        "city_country(\"Dublin\", \"Ireland\")"
      ]
    },
    {
      "cell_type": "markdown",
      "id": "491f64a4",
      "metadata": {
        "id": "491f64a4"
      },
      "source": [
        "## Question 17\n",
        "\n",
        "**Album:** Write a function called `make_album()` that builds a dictionary describing a music album. The function should take in an artist name and an album title, and it should return a dictionary containing these two pieces of information. Use the function to make three dictionaries representing different albums. Print each return value to show that the dictionaries are storing the album information correctly.\n",
        "\n",
        "Use None to add an optional parameter to make_album() that allows you to store the number of songs on an album. If the calling line includes a value for the number of songs, add that value to the album’s dictionary. Make at least one new function call that includes the number of songs on an album."
      ]
    },
    {
      "cell_type": "code",
      "execution_count": null,
      "id": "550b2be6",
      "metadata": {
        "id": "550b2be6",
        "colab": {
          "base_uri": "https://localhost:8080/"
        },
        "outputId": "f924ec6e-eb44-4d7e-aa9a-b62129f30e12"
      },
      "outputs": [
        {
          "output_type": "stream",
          "name": "stdout",
          "text": [
            "{'artist': 'Led Zeppelin', 'album': 'Stairway to Heaven', 'number of songs': None}\n",
            "{'artist': 'Kameron Marlowe', 'album': \"Country Boy's Prayer\", 'number of songs': None}\n",
            "{'artist': 'Luke Combs', 'album': \"What You See Ain't Always What You Get\", 'number of songs': None}\n",
            "{'artist': 'Zac Brown Band', 'album': 'The Comeback', 'number of songs': 15}\n"
          ]
        }
      ],
      "source": [
        "def make_album(artist, album, number = None):\n",
        "  dictionary = {\"artist\" : artist,\n",
        "                \"album\" : album,\n",
        "                \"number of songs\" : number}\n",
        "  return dictionary\n",
        "\n",
        "\n",
        "print(make_album(\"Led Zeppelin\", \"Stairway to Heaven\"))\n",
        "print(make_album(\"Kameron Marlowe\", \"Country Boy's Prayer\"))\n",
        "print(make_album(\"Luke Combs\", \"What You See Ain't Always What You Get\"))\n",
        "\n",
        "print(make_album(\"Zac Brown Band\", \"The Comeback\", 15))\n"
      ]
    },
    {
      "cell_type": "markdown",
      "id": "42f6a72f",
      "metadata": {
        "id": "42f6a72f"
      },
      "source": [
        "## Question 18\n",
        "\n",
        "**User Albums:** Start with your program from Question 17. Write a `while` loop that allows users to enter an album’s artist and title. Once you have that information, call `make_album()` with the user’s input and print the dictionary that’s created. Be sure to include a quit value in the `while` loop."
      ]
    },
    {
      "cell_type": "code",
      "execution_count": null,
      "id": "2ba9b4ba",
      "metadata": {
        "id": "2ba9b4ba",
        "colab": {
          "base_uri": "https://localhost:8080/"
        },
        "outputId": "6329e508-000a-4d59-f7b2-62eb60caa4c8"
      },
      "outputs": [
        {
          "name": "stdout",
          "output_type": "stream",
          "text": [
            "{'artist': '', 'album': '', 'number of songs': ''}\n",
            "Enter the artist. When done, type \"quit\"\n",
            "quit\n"
          ]
        }
      ],
      "source": [
        "album=\"\"\n",
        "artist=\"\"\n",
        "number=\"\"\n",
        "\n",
        "while artist !=\"quit\" and album !=\"quit\" and number != \"quit\":\n",
        "\n",
        "  print(make_album(artist, album, number))\n",
        "  artist = input(\"Enter the artist. When done, type \\\"quit\\\"\\n\")\n",
        "  if artist != \"quit\":\n",
        "    album = input(\"Enter the album. When done, type \\\"quit\\\"\\n\")\n",
        "\n",
        "    if album != \"quit\":\n",
        "      number = input(\"Enter the number of songs. When done, type \\\"quit\\\"\\n\")\n",
        "\n",
        "\n"
      ]
    },
    {
      "cell_type": "markdown",
      "id": "97bab8c2",
      "metadata": {
        "id": "97bab8c2"
      },
      "source": [
        "## Question 19\n",
        "\n",
        "**Messages:** Make a list containing a series of short text messages. Pass the list to a function called `show_messages()`, which prints each text message."
      ]
    },
    {
      "cell_type": "code",
      "execution_count": null,
      "id": "f8f3ee4e",
      "metadata": {
        "id": "f8f3ee4e",
        "colab": {
          "base_uri": "https://localhost:8080/"
        },
        "outputId": "0780c7d3-ed56-4043-f099-76e79a32d59f"
      },
      "outputs": [
        {
          "output_type": "stream",
          "name": "stdout",
          "text": [
            "lol\n",
            "lmk\n",
            "fyi\n",
            "tbh\n"
          ]
        }
      ],
      "source": [
        "def show_messages(text):\n",
        "  if isinstance(text, list):\n",
        "    for i in text:\n",
        "      print(i)\n",
        "\n",
        "texts = [\"lol\", \"lmk\", \"fyi\", \"tbh\"]\n",
        "\n",
        "show_messages(texts)"
      ]
    },
    {
      "cell_type": "markdown",
      "id": "a8bcea3c",
      "metadata": {
        "id": "a8bcea3c"
      },
      "source": [
        "## Question 20\n",
        "\n",
        "**Sending Messages:** Start with a copy of your program from Question 19. Write a function called `send_messages()` that prints each text message and moves each message to a new list called `sent_messages` as it’s printed. After calling the function, print both of your lists to make sure the messages were moved correctly."
      ]
    },
    {
      "cell_type": "code",
      "execution_count": null,
      "id": "c5340719",
      "metadata": {
        "id": "c5340719",
        "colab": {
          "base_uri": "https://localhost:8080/"
        },
        "outputId": "e15dcf34-102e-4014-b87b-436f4da8e25b"
      },
      "outputs": [
        {
          "output_type": "stream",
          "name": "stdout",
          "text": [
            "lol\n",
            "lmk\n",
            "fyi\n",
            "tbh\n",
            "['lol', 'lmk', 'fyi', 'tbh']\n",
            "['lol', 'lmk', 'fyi', 'tbh']\n"
          ]
        }
      ],
      "source": [
        "def show_messages(text, newlist):\n",
        "  if isinstance(text, list):\n",
        "    for i in text:\n",
        "      newlist.append(i)\n",
        "      print(i)\n",
        "  \n",
        "\n",
        "texts = [\"lol\", \"lmk\", \"fyi\", \"tbh\"]\n",
        "newlist = []\n",
        "show_messages(texts, newlist)\n",
        "\n",
        "print(newlist)\n",
        "print(texts)"
      ]
    },
    {
      "cell_type": "markdown",
      "id": "c98f1dd0",
      "metadata": {
        "id": "c98f1dd0"
      },
      "source": [
        "## Question 21\n",
        "\n",
        "**Learning Python:** Open a blank file in your text editor and write a few lines summarizing what you’ve learned about Python so far. Start each line with the phrase _In Python you can. . .._ Save the file as _learning_python.txt_ in the same directory as your exercises from this chapter. Write a program that reads the file and prints what you wrote three times. Print the contents once by reading in the entire file, once by looping over the file object, and once by storing the lines in a list and then working with them outside the _with_ block."
      ]
    },
    {
      "cell_type": "code",
      "execution_count": null,
      "id": "cb5da040",
      "metadata": {
        "id": "cb5da040",
        "colab": {
          "base_uri": "https://localhost:8080/"
        },
        "outputId": "4db145de-0f9f-42d5-8c87-80bd18a20eef"
      },
      "outputs": [
        {
          "output_type": "stream",
          "name": "stdout",
          "text": [
            "In python you can use dictionaries to save information linked to keys.\n",
            "In python you can upload .txt files and work with them.\n",
            "In python you can interact with users and their input to the program.\n",
            "['In python you can use dictionaries to save information linked to keys.\\n', 'In python you can upload .txt files and work with them.\\n', 'In python you can interact with users and their input to the program.']\n"
          ]
        }
      ],
      "source": [
        "with open(\"/content/sample_data/learning_python.txt\", \"r\") as file_object:\n",
        "   print(file_object.read())\n",
        "\n",
        "with open(\"/content/sample_data/learning_python.txt\", \"r\") as file_object:\n",
        "\n",
        "   print(file_object.readlines())\n",
        "# contents = []\n",
        "# with open(\"learning_python.txt\", \"r\") as file_object:\n",
        "#    contents = [file_object.read()]\n",
        "\n",
        "# for i in contents:\n",
        "#   print(i)\n"
      ]
    },
    {
      "cell_type": "markdown",
      "id": "4a1a04ad",
      "metadata": {
        "id": "4a1a04ad"
      },
      "source": [
        "## Question 22\n",
        "\n",
        "**Learning C:** You can use the replace() method to replace any word in a string with a different word. Here’s a quick example showing how to replace 'dog' with 'cat' in a sentence:\n",
        "\n",
        "```text\n",
        "message = \"I really like dogs.\"\n",
        "message.replace('dog', 'cat')\n",
        "'I really like cats.'\n",
        "```\n",
        "\n",
        "Read in each line from the file you just created, _learning_python.txt_, and replace the word _Python_ with the name of another language, such as _C_. Print each modified line to the screen."
      ]
    },
    {
      "cell_type": "code",
      "execution_count": null,
      "id": "b11b8018",
      "metadata": {
        "id": "b11b8018",
        "colab": {
          "base_uri": "https://localhost:8080/"
        },
        "outputId": "552bc676-de65-4f02-87ac-dd421366d677"
      },
      "outputs": [
        {
          "output_type": "stream",
          "name": "stdout",
          "text": [
            "In R you can use dictionaries to save information linked to keys.\n",
            "In R you can upload .txt files and work with them.\n",
            "In R you can interact with users and their input to the program.\n"
          ]
        }
      ],
      "source": [
        "with open(\"/content/sample_data/learning_python.txt\", \"r\") as file_object:\n",
        "  print(file_object.read().replace(\"python\", \"R\"))\n"
      ]
    },
    {
      "cell_type": "markdown",
      "id": "0921244a",
      "metadata": {
        "id": "0921244a"
      },
      "source": [
        "## Question 23\n",
        "\n",
        "**Guest:** Write a program that prompts the user for their name. When they respond, write their name to a file called guest.txt."
      ]
    },
    {
      "cell_type": "code",
      "execution_count": null,
      "id": "340d8f4b",
      "metadata": {
        "id": "340d8f4b",
        "colab": {
          "base_uri": "https://localhost:8080/"
        },
        "outputId": "f2494237-ca1a-4444-8e69-86e049e692b6"
      },
      "outputs": [
        {
          "output_type": "stream",
          "name": "stdout",
          "text": [
            "Please enter your name.\n",
            "Zach\n",
            "Zach\n"
          ]
        }
      ],
      "source": [
        "name = input(\"Please enter your name.\\n\")\n",
        "\n",
        "with open(\"/content/sample_data/guest.txt\", \"w\") as file_object:\n",
        "  file_object.write(name)\n",
        "\n",
        "with open(\"/content/sample_data/guest.txt\") as file_object:\n",
        "  print(file_object.read())\n",
        "\n"
      ]
    },
    {
      "cell_type": "markdown",
      "id": "24b72b21",
      "metadata": {
        "id": "24b72b21"
      },
      "source": [
        "## Question 24\n",
        "\n",
        "**Guest Book:** Write a while loop that prompts users for their name. When they enter their name, print a greeting to the screen and add a line recording their visit in a file called guest_book.txt. Make sure each entry appears on a new line in the file."
      ]
    },
    {
      "cell_type": "code",
      "execution_count": null,
      "id": "2326c653",
      "metadata": {
        "id": "2326c653",
        "colab": {
          "base_uri": "https://localhost:8080/"
        },
        "outputId": "8cf3d891-b2a9-481d-9296-2a5b8db0d259"
      },
      "outputs": [
        {
          "name": "stdout",
          "output_type": "stream",
          "text": [
            "Please enter your name. Enter \"quit\" to quit.\n",
            "Zach\n",
            "Please enter your name. Enter \"quit\" to quit.\n",
            "Zach\n",
            "Please enter your name. Enter \"quit\" to quit.\n",
            "Zach\n",
            "Please enter your name. Enter \"quit\" to quit.\n",
            "quit\n"
          ]
        }
      ],
      "source": [
        "cond=True\n",
        "\n",
        "while cond:\n",
        "\n",
        "  name = input(\"Please enter your name. Enter \\\"quit\\\" to quit.\\n\")\n",
        "  if(name!=\"quit\"):\n",
        "    with open(\"/content/sample_data/guest.txt\", \"a\") as file_object:\n",
        "      file_object.write(name)\n",
        "      file_object.write(\"\\n\")\n",
        "\n",
        "  else:\n",
        "    cond=False"
      ]
    },
    {
      "cell_type": "markdown",
      "id": "f3075d32",
      "metadata": {
        "id": "f3075d32"
      },
      "source": [
        "## Question 25\n",
        "\n",
        "**Programming Poll:** Write a while loop that asks people why they like programming. Each time someone enters a reason, add their reason to a file that stores all the responses."
      ]
    },
    {
      "cell_type": "code",
      "execution_count": null,
      "id": "042dfb04",
      "metadata": {
        "id": "042dfb04",
        "colab": {
          "base_uri": "https://localhost:8080/"
        },
        "outputId": "89512bc0-1c76-4687-d7ae-4b17e3c7cb15"
      },
      "outputs": [
        {
          "name": "stdout",
          "output_type": "stream",
          "text": [
            "Please enter why you like programming. Enter \"quit\" to quit.\n",
            "yay\n",
            "Please enter why you like programming. Enter \"quit\" to quit.\n",
            "quit\n"
          ]
        }
      ],
      "source": [
        "cond=True\n",
        "\n",
        "while cond:\n",
        "\n",
        "  reason = input(\"Please enter why you like programming. Enter \\\"quit\\\" to quit.\\n\")\n",
        "  if(reason!=\"quit\"):\n",
        "    with open(\"/content/sample_data/reason.txt\", \"a\") as file_object:\n",
        "      file_object.write(reason)\n",
        "      file_object.write(\"\\n\")\n",
        "\n",
        "  else:\n",
        "    cond=False"
      ]
    },
    {
      "cell_type": "markdown",
      "id": "ed07a1ca",
      "metadata": {
        "id": "ed07a1ca"
      },
      "source": [
        "## Question 26\n",
        "\n",
        "**Addition:** One common problem when prompting for numerical input occurs when people provide text instead of numbers. When you try to convert the input to an int, you’ll get a ValueError. Write a program that prompts for two numbers. Add them together and print the result. Catch the ValueError if either input value is not a number, and print a friendly error message. Test your program by entering two numbers and then by entering some text instead of a number."
      ]
    },
    {
      "cell_type": "code",
      "execution_count": null,
      "id": "eaf686f8",
      "metadata": {
        "id": "eaf686f8",
        "colab": {
          "base_uri": "https://localhost:8080/"
        },
        "outputId": "bfc3768d-6ac7-43ed-abb3-7b3baeef6923"
      },
      "outputs": [
        {
          "output_type": "stream",
          "name": "stdout",
          "text": [
            "Please enter a number\n",
            "10\n",
            "Please enter another number\n",
            "10\n",
            "20\n"
          ]
        }
      ],
      "source": [
        "try:\n",
        "  num1 = input(\"Please enter a number\\n\")\n",
        "  num2 = input(\"Please enter another number\\n\")\n",
        "\n",
        "  sum = int(num1)+int(num2)\n",
        "  print(sum)\n",
        "\n",
        "except:\n",
        "  print(\"These are not numbers.\")"
      ]
    },
    {
      "cell_type": "markdown",
      "id": "09db5341",
      "metadata": {
        "id": "09db5341"
      },
      "source": [
        "## Question 27\n",
        "\n",
        "**Addition Calculator:** Wrap your code from Question 26 in a while loop so the user can continue entering numbers even if they make a mistake and enter text instead of a number."
      ]
    },
    {
      "cell_type": "code",
      "execution_count": null,
      "id": "916c769d",
      "metadata": {
        "id": "916c769d",
        "colab": {
          "base_uri": "https://localhost:8080/"
        },
        "outputId": "e2a52a25-49e1-4a0f-ccf7-6ef6bf40baa3"
      },
      "outputs": [
        {
          "name": "stdout",
          "output_type": "stream",
          "text": [
            "To quit, simply type \"quit\"\n",
            "Please enter a number\n",
            "10\n",
            "Please enter another number\n",
            "10\n",
            "20\n",
            "To quit, simply type \"quit\"\n",
            "Please enter a number\n",
            "f\n",
            "Please enter another number\n",
            "j\n",
            "These are not numbers.\n",
            "\n",
            "\n",
            "To quit, simply type \"quit\"\n",
            "Please enter a number\n",
            "quit\n"
          ]
        }
      ],
      "source": [
        "num1 = \"\"\n",
        "num2 = \"\"\n",
        "\n",
        "while num1 !=\"quit\" and num2 != \"quit\":\n",
        "  try:\n",
        "    print(\"To quit, simply type \\\"quit\\\"\")\n",
        "    num1 = input(\"Please enter a number\\n\")\n",
        "\n",
        "    if num1 != \"quit\":\n",
        "      num2 = input(\"Please enter another number\\n\")\n",
        "\n",
        "      sum = int(num1)+int(num2)\n",
        "      print(sum)\n",
        "\n",
        "  except:\n",
        "    print(\"These are not numbers.\\n\\n\")"
      ]
    },
    {
      "cell_type": "markdown",
      "id": "288099a9",
      "metadata": {
        "id": "288099a9"
      },
      "source": [
        "## Question 28\n",
        "\n",
        "**Cats and Dogs:** Make two files, _cats.txt_ and _dogs.txt_. Store at least three names of cats in the first file and three names of dogs in the second file. Write a program that tries to read these files and print the contents of the file to the screen. Wrap your code in a `try-except` block to catch the `FileNotFound` error, and print a friendly message if a file is missing. Move one of the files to a different location on your system, and make sure the code in the `except` block executes properly."
      ]
    },
    {
      "cell_type": "code",
      "execution_count": null,
      "id": "387672f6",
      "metadata": {
        "id": "387672f6",
        "colab": {
          "base_uri": "https://localhost:8080/"
        },
        "outputId": "7600c53b-9909-434f-a814-d5f065834454"
      },
      "outputs": [
        {
          "output_type": "stream",
          "name": "stdout",
          "text": [
            "Siamese\n",
            "Sphynx\n",
            "Burmese\n",
            "Golden Retriever\n",
            "Black Lab\n",
            "Bluetick Coonhound\n"
          ]
        }
      ],
      "source": [
        "try:\n",
        "  with open(\"/content/sample_data/cats.txt\") as file_object:\n",
        "    print(file_object.read())\n",
        "\n",
        "  with open(\"/content/sample_data/dogs.txt\") as file_object:\n",
        "    print(file_object.read())\n",
        "\n",
        "\n",
        "\n",
        "except FileNotFoundError:\n",
        "  print(\"Your file seems to be missing from the Colab directory.\")"
      ]
    },
    {
      "cell_type": "markdown",
      "id": "e9d28546",
      "metadata": {
        "id": "e9d28546"
      },
      "source": [
        "## Question 29\n",
        "\n",
        "**Silent Cats and Dogs:** Modify your except block in Question 28 to fail silently if either file is missing."
      ]
    },
    {
      "cell_type": "code",
      "execution_count": null,
      "id": "2b972722",
      "metadata": {
        "id": "2b972722",
        "colab": {
          "base_uri": "https://localhost:8080/"
        },
        "outputId": "62b352c0-c81d-4734-a7e4-9f60a16c8dcd"
      },
      "outputs": [
        {
          "output_type": "stream",
          "name": "stdout",
          "text": [
            "Siamese\n",
            "Sphynx\n",
            "Burmese\n",
            "Golden Retriever\n",
            "Black Lab\n",
            "Bluetick Coonhound\n"
          ]
        }
      ],
      "source": [
        "try:\n",
        "  with open(\"/content/sample_data/cats.txt\") as file_object:\n",
        "    print(file_object.read())\n",
        "\n",
        "  with open(\"/content/sample_data/dogs.txt\") as file_object:\n",
        "    print(file_object.read())\n",
        "\n",
        "except FileNotFoundError:\n",
        "  pass"
      ]
    },
    {
      "cell_type": "markdown",
      "id": "241ffab1",
      "metadata": {
        "id": "241ffab1"
      },
      "source": [
        "## Question 30\n",
        "\n",
        "**Common Words:** Visit Project Gutenberg (<https://gutenberg.org/>) and find a few texts you’d like to analyze. Download the text files for these works, or copy the raw text from your browser into a text file on your computer. You can use the `count()` method to find out how many times a word or phrase appears in a string. For example, the following code counts the number of times 'row' appears in a string:"
      ]
    },
    {
      "cell_type": "code",
      "execution_count": null,
      "id": "2a017ac9",
      "metadata": {
        "id": "2a017ac9",
        "colab": {
          "base_uri": "https://localhost:8080/"
        },
        "outputId": "997b30f6-4b58-4d86-dc9e-c7212b3f2603"
      },
      "outputs": [
        {
          "output_type": "execute_result",
          "data": {
            "text/plain": [
              "2"
            ]
          },
          "metadata": {},
          "execution_count": 35
        }
      ],
      "source": [
        "line = \"Row, row, row your boat\"\n",
        "line.count('row')"
      ]
    },
    {
      "cell_type": "code",
      "execution_count": null,
      "id": "41707165",
      "metadata": {
        "id": "41707165",
        "colab": {
          "base_uri": "https://localhost:8080/"
        },
        "outputId": "71cf8000-a2af-4eb0-d46f-1d2b9bdbdde1"
      },
      "outputs": [
        {
          "output_type": "execute_result",
          "data": {
            "text/plain": [
              "3"
            ]
          },
          "metadata": {},
          "execution_count": 36
        }
      ],
      "source": [
        "line.lower().count('row')"
      ]
    },
    {
      "cell_type": "markdown",
      "id": "5652cc4d",
      "metadata": {
        "id": "5652cc4d"
      },
      "source": [
        "Notice that converting the string to lowercase using lower() catches all appearances of the word you’re looking for, regardless of how it’s formatted.\n",
        "\n",
        "Write a program that reads the files you found at Project Gutenberg and determines how many times the word `the` appears in each text. This will be an approximation because it will also count words such as `then` and `there`. Try counting `the`, with a space in the string, and see how much lower your count is."
      ]
    },
    {
      "cell_type": "code",
      "execution_count": null,
      "id": "55ab2af3",
      "metadata": {
        "id": "55ab2af3",
        "colab": {
          "base_uri": "https://localhost:8080/"
        },
        "outputId": "d840f241-538e-44d4-f24d-55f98d4ead1f"
      },
      "outputs": [
        {
          "output_type": "stream",
          "name": "stdout",
          "text": [
            "2048\n",
            "1295\n"
          ]
        }
      ],
      "source": [
        "with open(\"/content/sample_data/gutenberg1.txt\") as file_object:\n",
        "    contents = file_object.read()\n",
        "    print(contents.lower().count('the'))\n",
        "\n",
        "with open(\"/content/sample_data/gutenberg1.txt\") as file_object:\n",
        "    contents = file_object.read()\n",
        "    print(contents.lower().count('the '))"
      ]
    },
    {
      "cell_type": "code",
      "source": [
        "with open(\"/content/sample_data/gutenberg2.txt\") as file_object:\n",
        "    contents = file_object.read()\n",
        "    print(contents.lower().count('the'))\n",
        "\n",
        "with open(\"/content/sample_data/gutenberg2.txt\") as file_object:\n",
        "    contents = file_object.read()\n",
        "    print(contents.lower().count('the '))"
      ],
      "metadata": {
        "colab": {
          "base_uri": "https://localhost:8080/"
        },
        "id": "GAZKgqUMsTp6",
        "outputId": "d39dc706-b21e-4ab4-cad9-4554a1f9d9bf"
      },
      "id": "GAZKgqUMsTp6",
      "execution_count": null,
      "outputs": [
        {
          "output_type": "stream",
          "name": "stdout",
          "text": [
            "6831\n",
            "5350\n"
          ]
        }
      ]
    }
  ],
  "metadata": {
    "kernelspec": {
      "display_name": "Python 3",
      "language": "python",
      "name": "python3"
    },
    "colab": {
      "provenance": [],
      "include_colab_link": true
    }
  },
  "nbformat": 4,
  "nbformat_minor": 5
}