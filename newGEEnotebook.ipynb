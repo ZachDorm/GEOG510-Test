{
 "cells": [
  {
   "cell_type": "code",
   "execution_count": 3,
   "id": "170718e0",
   "metadata": {},
   "outputs": [],
   "source": [
    "import ee\n",
    "import geemap"
   ]
  },
  {
   "cell_type": "code",
   "execution_count": null,
   "id": "65846701",
   "metadata": {},
   "outputs": [
    {
     "data": {
      "text/html": [
       "<p>To authorize access needed by Earth Engine, open the following\n",
       "        URL in a web browser and follow the instructions:</p>\n",
       "        <p><a href=https://code.earthengine.google.com/client-auth?scopes=https%3A//www.googleapis.com/auth/earthengine%20https%3A//www.googleapis.com/auth/devstorage.full_control&request_id=HmPbX-rQ-X-2tEaye5moGy188l1nykO7wwEVJvGx_oo&tc=B99WbS3nCVGi0NCN4tnV8z7H5jpaA3R1b73Txd3aiqw&cc=yFZbZe7FING3qzVwptuTZMOxctSY3OPUm-luH0reSq8>https://code.earthengine.google.com/client-auth?scopes=https%3A//www.googleapis.com/auth/earthengine%20https%3A//www.googleapis.com/auth/devstorage.full_control&request_id=HmPbX-rQ-X-2tEaye5moGy188l1nykO7wwEVJvGx_oo&tc=B99WbS3nCVGi0NCN4tnV8z7H5jpaA3R1b73Txd3aiqw&cc=yFZbZe7FING3qzVwptuTZMOxctSY3OPUm-luH0reSq8</a></p>\n",
       "        <p>The authorization workflow will generate a code, which you should paste in the box below.</p>\n",
       "        "
      ],
      "text/plain": [
       "<IPython.core.display.HTML object>"
      ]
     },
     "metadata": {},
     "output_type": "display_data"
    }
   ],
   "source": [
    "Map = geemap.Map(center=(40,-100), zoom=4)"
   ]
  },
  {
   "cell_type": "code",
   "execution_count": null,
   "id": "ec2bbe0f",
   "metadata": {},
   "outputs": [],
   "source": [
    "dataset = ee.ImageCollection('USGS/NLCD_RELEASES/2019_REL/NLCD');\n",
    "var nlcd2019 = dataset.filter(ee.Filter.eq('system:index', '2019')).first();\n",
    "var landcover = nlcd2019.select('landcover');\n",
    "Map.setCenter(-95, 38, 5);\n",
    "Map.addLayer(landcover, null, 'Landcover');\n"
   ]
  }
 ],
 "metadata": {
  "kernelspec": {
   "display_name": "Python 3",
   "language": "python",
   "name": "python3"
  },
  "language_info": {
   "codemirror_mode": {
    "name": "ipython",
    "version": 3
   },
   "file_extension": ".py",
   "mimetype": "text/x-python",
   "name": "python",
   "nbconvert_exporter": "python",
   "pygments_lexer": "ipython3",
   "version": "3.10.8"
  },
  "vscode": {
   "interpreter": {
    "hash": "ac6864afdf49dcdc1c7d4bc36e2a73bc076269819276853466072da343cef534"
   }
  }
 },
 "nbformat": 4,
 "nbformat_minor": 5
}
